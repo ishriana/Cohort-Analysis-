{
  "nbformat": 4,
  "nbformat_minor": 0,
  "metadata": {
    "colab": {
      "name": "Cohort analysis 2.ipynb",
      "provenance": [],
      "authorship_tag": "ABX9TyMfi1wcO9CwgH+4U7w5+Vej",
      "include_colab_link": true
    },
    "kernelspec": {
      "name": "python3",
      "display_name": "Python 3"
    },
    "language_info": {
      "name": "python"
    }
  },
  "cells": [
    {
      "cell_type": "markdown",
      "metadata": {
        "id": "view-in-github",
        "colab_type": "text"
      },
      "source": [
        "<a href=\"https://colab.research.google.com/github/ishriana/Cohort-Analysis-/blob/main/Cohort_analysis_2.ipynb\" target=\"_parent\"><img src=\"https://colab.research.google.com/assets/colab-badge.svg\" alt=\"Open In Colab\"/></a>"
      ]
    },
    {
      "cell_type": "code",
      "metadata": {
        "id": "_hglWhdKbi0E"
      },
      "source": [
        "import pandas as pd\n",
        "import numpy as np\n",
        "import matplotlib.pyplot as plt\n",
        "import warnings\n",
        "import seaborn as sns\n",
        "from operator import attrgetter\n",
        "import matplotlib.colors as mcolors"
      ],
      "execution_count": 78,
      "outputs": []
    },
    {
      "cell_type": "code",
      "metadata": {
        "colab": {
          "base_uri": "https://localhost:8080/",
          "height": 289
        },
        "id": "dSOUFLL2bq1s",
        "outputId": "93828a8b-8c5b-4e62-af39-953c16e14788"
      },
      "source": [
        "df = pd.read_excel('/content/Online Retail.xlsx')\n",
        "df.head()"
      ],
      "execution_count": 79,
      "outputs": [
        {
          "output_type": "execute_result",
          "data": {
            "text/html": [
              "<div>\n",
              "<style scoped>\n",
              "    .dataframe tbody tr th:only-of-type {\n",
              "        vertical-align: middle;\n",
              "    }\n",
              "\n",
              "    .dataframe tbody tr th {\n",
              "        vertical-align: top;\n",
              "    }\n",
              "\n",
              "    .dataframe thead th {\n",
              "        text-align: right;\n",
              "    }\n",
              "</style>\n",
              "<table border=\"1\" class=\"dataframe\">\n",
              "  <thead>\n",
              "    <tr style=\"text-align: right;\">\n",
              "      <th></th>\n",
              "      <th>InvoiceNo</th>\n",
              "      <th>StockCode</th>\n",
              "      <th>Description</th>\n",
              "      <th>Quantity</th>\n",
              "      <th>InvoiceDate</th>\n",
              "      <th>UnitPrice</th>\n",
              "      <th>CustomerID</th>\n",
              "      <th>Country</th>\n",
              "    </tr>\n",
              "  </thead>\n",
              "  <tbody>\n",
              "    <tr>\n",
              "      <th>0</th>\n",
              "      <td>536365</td>\n",
              "      <td>85123A</td>\n",
              "      <td>WHITE HANGING HEART T-LIGHT HOLDER</td>\n",
              "      <td>6</td>\n",
              "      <td>2010-12-01 08:26:00</td>\n",
              "      <td>2.55</td>\n",
              "      <td>17850.0</td>\n",
              "      <td>United Kingdom</td>\n",
              "    </tr>\n",
              "    <tr>\n",
              "      <th>1</th>\n",
              "      <td>536365</td>\n",
              "      <td>71053</td>\n",
              "      <td>WHITE METAL LANTERN</td>\n",
              "      <td>6</td>\n",
              "      <td>2010-12-01 08:26:00</td>\n",
              "      <td>3.39</td>\n",
              "      <td>17850.0</td>\n",
              "      <td>United Kingdom</td>\n",
              "    </tr>\n",
              "    <tr>\n",
              "      <th>2</th>\n",
              "      <td>536365</td>\n",
              "      <td>84406B</td>\n",
              "      <td>CREAM CUPID HEARTS COAT HANGER</td>\n",
              "      <td>8</td>\n",
              "      <td>2010-12-01 08:26:00</td>\n",
              "      <td>2.75</td>\n",
              "      <td>17850.0</td>\n",
              "      <td>United Kingdom</td>\n",
              "    </tr>\n",
              "    <tr>\n",
              "      <th>3</th>\n",
              "      <td>536365</td>\n",
              "      <td>84029G</td>\n",
              "      <td>KNITTED UNION FLAG HOT WATER BOTTLE</td>\n",
              "      <td>6</td>\n",
              "      <td>2010-12-01 08:26:00</td>\n",
              "      <td>3.39</td>\n",
              "      <td>17850.0</td>\n",
              "      <td>United Kingdom</td>\n",
              "    </tr>\n",
              "    <tr>\n",
              "      <th>4</th>\n",
              "      <td>536365</td>\n",
              "      <td>84029E</td>\n",
              "      <td>RED WOOLLY HOTTIE WHITE HEART.</td>\n",
              "      <td>6</td>\n",
              "      <td>2010-12-01 08:26:00</td>\n",
              "      <td>3.39</td>\n",
              "      <td>17850.0</td>\n",
              "      <td>United Kingdom</td>\n",
              "    </tr>\n",
              "  </tbody>\n",
              "</table>\n",
              "</div>"
            ],
            "text/plain": [
              "  InvoiceNo StockCode  ... CustomerID         Country\n",
              "0    536365    85123A  ...    17850.0  United Kingdom\n",
              "1    536365     71053  ...    17850.0  United Kingdom\n",
              "2    536365    84406B  ...    17850.0  United Kingdom\n",
              "3    536365    84029G  ...    17850.0  United Kingdom\n",
              "4    536365    84029E  ...    17850.0  United Kingdom\n",
              "\n",
              "[5 rows x 8 columns]"
            ]
          },
          "metadata": {},
          "execution_count": 79
        }
      ]
    },
    {
      "cell_type": "markdown",
      "metadata": {
        "id": "nq-Ft7q4MX8a"
      },
      "source": [
        "Rearrainging the Dataframe"
      ]
    },
    {
      "cell_type": "code",
      "metadata": {
        "id": "FN-EWBRqLSBR"
      },
      "source": [
        "df1 = pd.DataFrame()"
      ],
      "execution_count": 80,
      "outputs": []
    },
    {
      "cell_type": "code",
      "metadata": {
        "id": "4HyHWDDtLh3j"
      },
      "source": [
        "columns = ['InvoiceNo','InvoiceDate','CustomerID','StockCode','UnitPrice','Quantity','Description','Country']"
      ],
      "execution_count": 81,
      "outputs": []
    },
    {
      "cell_type": "code",
      "metadata": {
        "id": "Lqox7fbpLXdg"
      },
      "source": [
        "df1 = df[columns]"
      ],
      "execution_count": 82,
      "outputs": []
    },
    {
      "cell_type": "code",
      "metadata": {
        "colab": {
          "base_uri": "https://localhost:8080/",
          "height": 289
        },
        "id": "DhjvZO6UMIqs",
        "outputId": "f9888fdd-4e63-4d7a-fba5-1ae188b48f78"
      },
      "source": [
        "df1.head()"
      ],
      "execution_count": 83,
      "outputs": [
        {
          "output_type": "execute_result",
          "data": {
            "text/html": [
              "<div>\n",
              "<style scoped>\n",
              "    .dataframe tbody tr th:only-of-type {\n",
              "        vertical-align: middle;\n",
              "    }\n",
              "\n",
              "    .dataframe tbody tr th {\n",
              "        vertical-align: top;\n",
              "    }\n",
              "\n",
              "    .dataframe thead th {\n",
              "        text-align: right;\n",
              "    }\n",
              "</style>\n",
              "<table border=\"1\" class=\"dataframe\">\n",
              "  <thead>\n",
              "    <tr style=\"text-align: right;\">\n",
              "      <th></th>\n",
              "      <th>InvoiceNo</th>\n",
              "      <th>InvoiceDate</th>\n",
              "      <th>CustomerID</th>\n",
              "      <th>StockCode</th>\n",
              "      <th>UnitPrice</th>\n",
              "      <th>Quantity</th>\n",
              "      <th>Description</th>\n",
              "      <th>Country</th>\n",
              "    </tr>\n",
              "  </thead>\n",
              "  <tbody>\n",
              "    <tr>\n",
              "      <th>0</th>\n",
              "      <td>536365</td>\n",
              "      <td>2010-12-01 08:26:00</td>\n",
              "      <td>17850.0</td>\n",
              "      <td>85123A</td>\n",
              "      <td>2.55</td>\n",
              "      <td>6</td>\n",
              "      <td>WHITE HANGING HEART T-LIGHT HOLDER</td>\n",
              "      <td>United Kingdom</td>\n",
              "    </tr>\n",
              "    <tr>\n",
              "      <th>1</th>\n",
              "      <td>536365</td>\n",
              "      <td>2010-12-01 08:26:00</td>\n",
              "      <td>17850.0</td>\n",
              "      <td>71053</td>\n",
              "      <td>3.39</td>\n",
              "      <td>6</td>\n",
              "      <td>WHITE METAL LANTERN</td>\n",
              "      <td>United Kingdom</td>\n",
              "    </tr>\n",
              "    <tr>\n",
              "      <th>2</th>\n",
              "      <td>536365</td>\n",
              "      <td>2010-12-01 08:26:00</td>\n",
              "      <td>17850.0</td>\n",
              "      <td>84406B</td>\n",
              "      <td>2.75</td>\n",
              "      <td>8</td>\n",
              "      <td>CREAM CUPID HEARTS COAT HANGER</td>\n",
              "      <td>United Kingdom</td>\n",
              "    </tr>\n",
              "    <tr>\n",
              "      <th>3</th>\n",
              "      <td>536365</td>\n",
              "      <td>2010-12-01 08:26:00</td>\n",
              "      <td>17850.0</td>\n",
              "      <td>84029G</td>\n",
              "      <td>3.39</td>\n",
              "      <td>6</td>\n",
              "      <td>KNITTED UNION FLAG HOT WATER BOTTLE</td>\n",
              "      <td>United Kingdom</td>\n",
              "    </tr>\n",
              "    <tr>\n",
              "      <th>4</th>\n",
              "      <td>536365</td>\n",
              "      <td>2010-12-01 08:26:00</td>\n",
              "      <td>17850.0</td>\n",
              "      <td>84029E</td>\n",
              "      <td>3.39</td>\n",
              "      <td>6</td>\n",
              "      <td>RED WOOLLY HOTTIE WHITE HEART.</td>\n",
              "      <td>United Kingdom</td>\n",
              "    </tr>\n",
              "  </tbody>\n",
              "</table>\n",
              "</div>"
            ],
            "text/plain": [
              "  InvoiceNo  ...         Country\n",
              "0    536365  ...  United Kingdom\n",
              "1    536365  ...  United Kingdom\n",
              "2    536365  ...  United Kingdom\n",
              "3    536365  ...  United Kingdom\n",
              "4    536365  ...  United Kingdom\n",
              "\n",
              "[5 rows x 8 columns]"
            ]
          },
          "metadata": {},
          "execution_count": 83
        }
      ]
    },
    {
      "cell_type": "code",
      "metadata": {
        "colab": {
          "base_uri": "https://localhost:8080/"
        },
        "id": "T-C93xcn5Dhe",
        "outputId": "1f30253c-d5d3-4837-9e5c-5e88e865a5ef"
      },
      "source": [
        "df1['InvoiceDate'].min()"
      ],
      "execution_count": 84,
      "outputs": [
        {
          "output_type": "execute_result",
          "data": {
            "text/plain": [
              "Timestamp('2010-12-01 08:26:00')"
            ]
          },
          "metadata": {},
          "execution_count": 84
        }
      ]
    },
    {
      "cell_type": "code",
      "metadata": {
        "colab": {
          "base_uri": "https://localhost:8080/"
        },
        "id": "KmL42c-S5QQm",
        "outputId": "efe9ee9d-21b2-4f2f-8123-c6205efe43a6"
      },
      "source": [
        "df1['InvoiceDate'].max()"
      ],
      "execution_count": 85,
      "outputs": [
        {
          "output_type": "execute_result",
          "data": {
            "text/plain": [
              "Timestamp('2011-12-09 12:50:00')"
            ]
          },
          "metadata": {},
          "execution_count": 85
        }
      ]
    },
    {
      "cell_type": "code",
      "metadata": {
        "colab": {
          "base_uri": "https://localhost:8080/"
        },
        "id": "vanfeiia5UQ3",
        "outputId": "fc0387b5-0cab-4d44-9300-0e954201cf84"
      },
      "source": [
        "duration = df1['InvoiceDate'].max() - df1['InvoiceDate'].min()\n",
        "duration"
      ],
      "execution_count": 86,
      "outputs": [
        {
          "output_type": "execute_result",
          "data": {
            "text/plain": [
              "Timedelta('373 days 04:24:00')"
            ]
          },
          "metadata": {},
          "execution_count": 86
        }
      ]
    },
    {
      "cell_type": "markdown",
      "metadata": {
        "id": "N9khAway5igC"
      },
      "source": [
        "Dataset has records of almost a year"
      ]
    },
    {
      "cell_type": "code",
      "metadata": {
        "colab": {
          "base_uri": "https://localhost:8080/"
        },
        "id": "U3rvryEy4w0d",
        "outputId": "c8910ae6-4dd3-4b27-e330-ec21f28b856c"
      },
      "source": [
        "df1.shape"
      ],
      "execution_count": 87,
      "outputs": [
        {
          "output_type": "execute_result",
          "data": {
            "text/plain": [
              "(541909, 8)"
            ]
          },
          "metadata": {},
          "execution_count": 87
        }
      ]
    },
    {
      "cell_type": "code",
      "metadata": {
        "colab": {
          "base_uri": "https://localhost:8080/"
        },
        "id": "GJz0-l6Q307G",
        "outputId": "c43ec62e-a105-477f-f682-df0506afac05"
      },
      "source": [
        "df1.info()"
      ],
      "execution_count": 88,
      "outputs": [
        {
          "output_type": "stream",
          "name": "stdout",
          "text": [
            "<class 'pandas.core.frame.DataFrame'>\n",
            "RangeIndex: 541909 entries, 0 to 541908\n",
            "Data columns (total 8 columns):\n",
            " #   Column       Non-Null Count   Dtype         \n",
            "---  ------       --------------   -----         \n",
            " 0   InvoiceNo    541909 non-null  object        \n",
            " 1   InvoiceDate  541909 non-null  datetime64[ns]\n",
            " 2   CustomerID   406829 non-null  float64       \n",
            " 3   StockCode    541909 non-null  object        \n",
            " 4   UnitPrice    541909 non-null  float64       \n",
            " 5   Quantity     541909 non-null  int64         \n",
            " 6   Description  540455 non-null  object        \n",
            " 7   Country      541909 non-null  object        \n",
            "dtypes: datetime64[ns](1), float64(2), int64(1), object(4)\n",
            "memory usage: 33.1+ MB\n"
          ]
        }
      ]
    },
    {
      "cell_type": "code",
      "metadata": {
        "colab": {
          "base_uri": "https://localhost:8080/"
        },
        "id": "0ZiHHI1Z33Di",
        "outputId": "9c6f3001-b11f-4ade-dcfb-2dcff855f680"
      },
      "source": [
        "df1.isnull().sum()"
      ],
      "execution_count": 89,
      "outputs": [
        {
          "output_type": "execute_result",
          "data": {
            "text/plain": [
              "InvoiceNo           0\n",
              "InvoiceDate         0\n",
              "CustomerID     135080\n",
              "StockCode           0\n",
              "UnitPrice           0\n",
              "Quantity            0\n",
              "Description      1454\n",
              "Country             0\n",
              "dtype: int64"
            ]
          },
          "metadata": {},
          "execution_count": 89
        }
      ]
    },
    {
      "cell_type": "markdown",
      "metadata": {
        "id": "DZ8Kd_uq57ld"
      },
      "source": [
        "Customer_id has a lot of missing values. Since this column is important for doing analysis and cant have duplicate id's we will drop the rows with null values"
      ]
    },
    {
      "cell_type": "code",
      "metadata": {
        "id": "NqlDdFje5vCl"
      },
      "source": [
        "df1 = df1.dropna()"
      ],
      "execution_count": 90,
      "outputs": []
    },
    {
      "cell_type": "code",
      "metadata": {
        "colab": {
          "base_uri": "https://localhost:8080/"
        },
        "id": "goxBNVOn6TDe",
        "outputId": "1bd57c72-fcb0-40e9-f689-e9c41dcfd21a"
      },
      "source": [
        "df1.isnull().sum()"
      ],
      "execution_count": 91,
      "outputs": [
        {
          "output_type": "execute_result",
          "data": {
            "text/plain": [
              "InvoiceNo      0\n",
              "InvoiceDate    0\n",
              "CustomerID     0\n",
              "StockCode      0\n",
              "UnitPrice      0\n",
              "Quantity       0\n",
              "Description    0\n",
              "Country        0\n",
              "dtype: int64"
            ]
          },
          "metadata": {},
          "execution_count": 91
        }
      ]
    },
    {
      "cell_type": "markdown",
      "metadata": {
        "id": "UE3di8bx6YTM"
      },
      "source": [
        "So basically this cleans our dataset at the cost of loosing some chunk of information but its worth the deal. If you have better solutions please feel free to post it in the comments section"
      ]
    },
    {
      "cell_type": "code",
      "metadata": {
        "colab": {
          "base_uri": "https://localhost:8080/",
          "height": 204
        },
        "id": "Q0v0AxDO7TnO",
        "outputId": "3ea3651a-1b03-4c26-88fc-fff95ad2d6c6"
      },
      "source": [
        "df1.tail()"
      ],
      "execution_count": 92,
      "outputs": [
        {
          "output_type": "execute_result",
          "data": {
            "text/html": [
              "<div>\n",
              "<style scoped>\n",
              "    .dataframe tbody tr th:only-of-type {\n",
              "        vertical-align: middle;\n",
              "    }\n",
              "\n",
              "    .dataframe tbody tr th {\n",
              "        vertical-align: top;\n",
              "    }\n",
              "\n",
              "    .dataframe thead th {\n",
              "        text-align: right;\n",
              "    }\n",
              "</style>\n",
              "<table border=\"1\" class=\"dataframe\">\n",
              "  <thead>\n",
              "    <tr style=\"text-align: right;\">\n",
              "      <th></th>\n",
              "      <th>InvoiceNo</th>\n",
              "      <th>InvoiceDate</th>\n",
              "      <th>CustomerID</th>\n",
              "      <th>StockCode</th>\n",
              "      <th>UnitPrice</th>\n",
              "      <th>Quantity</th>\n",
              "      <th>Description</th>\n",
              "      <th>Country</th>\n",
              "    </tr>\n",
              "  </thead>\n",
              "  <tbody>\n",
              "    <tr>\n",
              "      <th>541904</th>\n",
              "      <td>581587</td>\n",
              "      <td>2011-12-09 12:50:00</td>\n",
              "      <td>12680.0</td>\n",
              "      <td>22613</td>\n",
              "      <td>0.85</td>\n",
              "      <td>12</td>\n",
              "      <td>PACK OF 20 SPACEBOY NAPKINS</td>\n",
              "      <td>France</td>\n",
              "    </tr>\n",
              "    <tr>\n",
              "      <th>541905</th>\n",
              "      <td>581587</td>\n",
              "      <td>2011-12-09 12:50:00</td>\n",
              "      <td>12680.0</td>\n",
              "      <td>22899</td>\n",
              "      <td>2.10</td>\n",
              "      <td>6</td>\n",
              "      <td>CHILDREN'S APRON DOLLY GIRL</td>\n",
              "      <td>France</td>\n",
              "    </tr>\n",
              "    <tr>\n",
              "      <th>541906</th>\n",
              "      <td>581587</td>\n",
              "      <td>2011-12-09 12:50:00</td>\n",
              "      <td>12680.0</td>\n",
              "      <td>23254</td>\n",
              "      <td>4.15</td>\n",
              "      <td>4</td>\n",
              "      <td>CHILDRENS CUTLERY DOLLY GIRL</td>\n",
              "      <td>France</td>\n",
              "    </tr>\n",
              "    <tr>\n",
              "      <th>541907</th>\n",
              "      <td>581587</td>\n",
              "      <td>2011-12-09 12:50:00</td>\n",
              "      <td>12680.0</td>\n",
              "      <td>23255</td>\n",
              "      <td>4.15</td>\n",
              "      <td>4</td>\n",
              "      <td>CHILDRENS CUTLERY CIRCUS PARADE</td>\n",
              "      <td>France</td>\n",
              "    </tr>\n",
              "    <tr>\n",
              "      <th>541908</th>\n",
              "      <td>581587</td>\n",
              "      <td>2011-12-09 12:50:00</td>\n",
              "      <td>12680.0</td>\n",
              "      <td>22138</td>\n",
              "      <td>4.95</td>\n",
              "      <td>3</td>\n",
              "      <td>BAKING SET 9 PIECE RETROSPOT</td>\n",
              "      <td>France</td>\n",
              "    </tr>\n",
              "  </tbody>\n",
              "</table>\n",
              "</div>"
            ],
            "text/plain": [
              "       InvoiceNo         InvoiceDate  ...                      Description Country\n",
              "541904    581587 2011-12-09 12:50:00  ...      PACK OF 20 SPACEBOY NAPKINS  France\n",
              "541905    581587 2011-12-09 12:50:00  ...     CHILDREN'S APRON DOLLY GIRL   France\n",
              "541906    581587 2011-12-09 12:50:00  ...    CHILDRENS CUTLERY DOLLY GIRL   France\n",
              "541907    581587 2011-12-09 12:50:00  ...  CHILDRENS CUTLERY CIRCUS PARADE  France\n",
              "541908    581587 2011-12-09 12:50:00  ...    BAKING SET 9 PIECE RETROSPOT   France\n",
              "\n",
              "[5 rows x 8 columns]"
            ]
          },
          "metadata": {},
          "execution_count": 92
        }
      ]
    },
    {
      "cell_type": "markdown",
      "metadata": {
        "id": "WFhC_NpQ8iP-"
      },
      "source": [
        "From the table it is evident that a single customer has placed multiple orders. so we will create a variable storing values of the count of orders placed per customer"
      ]
    },
    {
      "cell_type": "code",
      "metadata": {
        "colab": {
          "base_uri": "https://localhost:8080/"
        },
        "id": "tauNq-3e75hu",
        "outputId": "d2f53e70-ebd2-46b7-cb92-1c2322aab54f"
      },
      "source": [
        "n_orders = df1.groupby(['CustomerID'])['InvoiceDate'].nunique()\n",
        "n_orders"
      ],
      "execution_count": 93,
      "outputs": [
        {
          "output_type": "execute_result",
          "data": {
            "text/plain": [
              "CustomerID\n",
              "12346.0     2\n",
              "12347.0     7\n",
              "12348.0     4\n",
              "12349.0     1\n",
              "12350.0     1\n",
              "           ..\n",
              "18280.0     1\n",
              "18281.0     1\n",
              "18282.0     3\n",
              "18283.0    16\n",
              "18287.0     3\n",
              "Name: InvoiceDate, Length: 4372, dtype: int64"
            ]
          },
          "metadata": {},
          "execution_count": 93
        }
      ]
    },
    {
      "cell_type": "code",
      "metadata": {
        "colab": {
          "base_uri": "https://localhost:8080/"
        },
        "id": "DPzThqBG92IC",
        "outputId": "5eb31229-8f72-4c27-cf88-0e7e9dd6cf43"
      },
      "source": [
        "np.sum(n_orders > 1)"
      ],
      "execution_count": 94,
      "outputs": [
        {
          "output_type": "execute_result",
          "data": {
            "text/plain": [
              "3058"
            ]
          },
          "metadata": {},
          "execution_count": 94
        }
      ]
    },
    {
      "cell_type": "markdown",
      "metadata": {
        "id": "BlZqglTv_zWN"
      },
      "source": [
        "There are some orders that have values less than 1 which refers to returns or calcelled orders. we will try to get rid of this by removing the calcelled order and keeping the initial placement which in a way would make sense when we calculate our retention matrix.\n",
        "\n",
        "Next we ll calculate the percentage of multiple orders as in how many people ordered more than once."
      ]
    },
    {
      "cell_type": "code",
      "metadata": {
        "colab": {
          "base_uri": "https://localhost:8080/"
        },
        "id": "D0P7tL75_cjd",
        "outputId": "9fe16803-a2bd-427b-ba1d-56ed8307c2f0"
      },
      "source": [
        "mult_order_per = (np.sum(n_orders>1)/len(n_orders))*100\n",
        "mult_order_per"
      ],
      "execution_count": 95,
      "outputs": [
        {
          "output_type": "execute_result",
          "data": {
            "text/plain": [
              "69.94510521500457"
            ]
          },
          "metadata": {},
          "execution_count": 95
        }
      ]
    },
    {
      "cell_type": "markdown",
      "metadata": {
        "id": "0fk_NL46CK--"
      },
      "source": [
        "Almost 70% of the customers have ordered more than once.This piece of information leads to a hypothetical conclusion that we would have more retention rate "
      ]
    },
    {
      "cell_type": "code",
      "metadata": {
        "id": "LelIQrebodFp"
      },
      "source": [
        "#df = df[['CustomerID', 'InvoiceNo', 'InvoiceDate']].drop_duplicates()"
      ],
      "execution_count": 96,
      "outputs": []
    },
    {
      "cell_type": "code",
      "metadata": {
        "colab": {
          "base_uri": "https://localhost:8080/"
        },
        "id": "yXbtUgsvohlN",
        "outputId": "04270859-bd2b-48af-bf5b-3e12c2ea0ec9"
      },
      "source": [
        "df1.shape"
      ],
      "execution_count": 97,
      "outputs": [
        {
          "output_type": "execute_result",
          "data": {
            "text/plain": [
              "(406829, 8)"
            ]
          },
          "metadata": {},
          "execution_count": 97
        }
      ]
    },
    {
      "cell_type": "code",
      "metadata": {
        "colab": {
          "base_uri": "https://localhost:8080/"
        },
        "id": "K3D8vsZNNzsY",
        "outputId": "aa9afcab-daca-48e4-d942-21f1711f424c"
      },
      "source": [
        "df1.duplicated(subset=['InvoiceNo']).sum()"
      ],
      "execution_count": 98,
      "outputs": [
        {
          "output_type": "execute_result",
          "data": {
            "text/plain": [
              "384639"
            ]
          },
          "metadata": {},
          "execution_count": 98
        }
      ]
    },
    {
      "cell_type": "markdown",
      "metadata": {
        "id": "6ZWIUX1xVilP"
      },
      "source": [
        "Above two columns represent duplicate values in invoice. To conclude these are the same invoice but might have multiple objects in them so values are repeating. we can just extract the invoice no for a customer by removing duplicates and yes that serves our purpose coz we are only interested in the visit of customer here not the volume of material sold. \n",
        "\n",
        "Also lets get rid of unwanted columns to keep track of our work neatly"
      ]
    },
    {
      "cell_type": "code",
      "metadata": {
        "id": "UhARqn8nSDo6"
      },
      "source": [
        "df1 = df1[['CustomerID', 'InvoiceNo', 'InvoiceDate']].drop_duplicates()"
      ],
      "execution_count": 107,
      "outputs": []
    },
    {
      "cell_type": "code",
      "metadata": {
        "colab": {
          "base_uri": "https://localhost:8080/"
        },
        "id": "ke4E1HLXWY1-",
        "outputId": "d2485238-a174-412f-bc38-6619b65e7590"
      },
      "source": [
        "df1.shape"
      ],
      "execution_count": 108,
      "outputs": [
        {
          "output_type": "execute_result",
          "data": {
            "text/plain": [
              "(22221, 3)"
            ]
          },
          "metadata": {},
          "execution_count": 108
        }
      ]
    },
    {
      "cell_type": "markdown",
      "metadata": {
        "id": "L4wiBfZrO0G8"
      },
      "source": [
        "Create a new column having values of transaction by month"
      ]
    },
    {
      "cell_type": "code",
      "metadata": {
        "id": "7pB5251KMYpT"
      },
      "source": [
        "df1['order_month'] = df1['InvoiceDate'].dt.to_period('M')"
      ],
      "execution_count": 109,
      "outputs": []
    },
    {
      "cell_type": "code",
      "metadata": {
        "colab": {
          "base_uri": "https://localhost:8080/",
          "height": 204
        },
        "id": "RdLimAtHTzq3",
        "outputId": "809da325-85a3-429f-b4c3-a66b87ade5fa"
      },
      "source": [
        "df1.head()"
      ],
      "execution_count": 111,
      "outputs": [
        {
          "output_type": "execute_result",
          "data": {
            "text/html": [
              "<div>\n",
              "<style scoped>\n",
              "    .dataframe tbody tr th:only-of-type {\n",
              "        vertical-align: middle;\n",
              "    }\n",
              "\n",
              "    .dataframe tbody tr th {\n",
              "        vertical-align: top;\n",
              "    }\n",
              "\n",
              "    .dataframe thead th {\n",
              "        text-align: right;\n",
              "    }\n",
              "</style>\n",
              "<table border=\"1\" class=\"dataframe\">\n",
              "  <thead>\n",
              "    <tr style=\"text-align: right;\">\n",
              "      <th></th>\n",
              "      <th>CustomerID</th>\n",
              "      <th>InvoiceNo</th>\n",
              "      <th>InvoiceDate</th>\n",
              "      <th>order_month</th>\n",
              "    </tr>\n",
              "  </thead>\n",
              "  <tbody>\n",
              "    <tr>\n",
              "      <th>0</th>\n",
              "      <td>17850.0</td>\n",
              "      <td>536365</td>\n",
              "      <td>2010-12-01 08:26:00</td>\n",
              "      <td>2010-12</td>\n",
              "    </tr>\n",
              "    <tr>\n",
              "      <th>7</th>\n",
              "      <td>17850.0</td>\n",
              "      <td>536366</td>\n",
              "      <td>2010-12-01 08:28:00</td>\n",
              "      <td>2010-12</td>\n",
              "    </tr>\n",
              "    <tr>\n",
              "      <th>9</th>\n",
              "      <td>13047.0</td>\n",
              "      <td>536367</td>\n",
              "      <td>2010-12-01 08:34:00</td>\n",
              "      <td>2010-12</td>\n",
              "    </tr>\n",
              "    <tr>\n",
              "      <th>21</th>\n",
              "      <td>13047.0</td>\n",
              "      <td>536368</td>\n",
              "      <td>2010-12-01 08:34:00</td>\n",
              "      <td>2010-12</td>\n",
              "    </tr>\n",
              "    <tr>\n",
              "      <th>25</th>\n",
              "      <td>13047.0</td>\n",
              "      <td>536369</td>\n",
              "      <td>2010-12-01 08:35:00</td>\n",
              "      <td>2010-12</td>\n",
              "    </tr>\n",
              "  </tbody>\n",
              "</table>\n",
              "</div>"
            ],
            "text/plain": [
              "    CustomerID InvoiceNo         InvoiceDate order_month\n",
              "0      17850.0    536365 2010-12-01 08:26:00     2010-12\n",
              "7      17850.0    536366 2010-12-01 08:28:00     2010-12\n",
              "9      13047.0    536367 2010-12-01 08:34:00     2010-12\n",
              "21     13047.0    536368 2010-12-01 08:34:00     2010-12\n",
              "25     13047.0    536369 2010-12-01 08:35:00     2010-12"
            ]
          },
          "metadata": {},
          "execution_count": 111
        }
      ]
    },
    {
      "cell_type": "code",
      "metadata": {
        "id": "teGxXYmsWwQv"
      },
      "source": [
        "df1['Cohort'] = df1.groupby('CustomerID')['InvoiceDate'].transform('min').dt.to_period('M')"
      ],
      "execution_count": 112,
      "outputs": []
    },
    {
      "cell_type": "code",
      "metadata": {
        "colab": {
          "base_uri": "https://localhost:8080/",
          "height": 204
        },
        "id": "T00l5wI0XW9u",
        "outputId": "7bf8f8e4-a8ee-4e64-f552-d504f4c25051"
      },
      "source": [
        "df1.head()"
      ],
      "execution_count": 117,
      "outputs": [
        {
          "output_type": "execute_result",
          "data": {
            "text/html": [
              "<div>\n",
              "<style scoped>\n",
              "    .dataframe tbody tr th:only-of-type {\n",
              "        vertical-align: middle;\n",
              "    }\n",
              "\n",
              "    .dataframe tbody tr th {\n",
              "        vertical-align: top;\n",
              "    }\n",
              "\n",
              "    .dataframe thead th {\n",
              "        text-align: right;\n",
              "    }\n",
              "</style>\n",
              "<table border=\"1\" class=\"dataframe\">\n",
              "  <thead>\n",
              "    <tr style=\"text-align: right;\">\n",
              "      <th></th>\n",
              "      <th>CustomerID</th>\n",
              "      <th>InvoiceNo</th>\n",
              "      <th>InvoiceDate</th>\n",
              "      <th>order_month</th>\n",
              "      <th>Cohort</th>\n",
              "    </tr>\n",
              "  </thead>\n",
              "  <tbody>\n",
              "    <tr>\n",
              "      <th>0</th>\n",
              "      <td>17850.0</td>\n",
              "      <td>536365</td>\n",
              "      <td>2010-12-01 08:26:00</td>\n",
              "      <td>2010-12</td>\n",
              "      <td>2010-12</td>\n",
              "    </tr>\n",
              "    <tr>\n",
              "      <th>7</th>\n",
              "      <td>17850.0</td>\n",
              "      <td>536366</td>\n",
              "      <td>2010-12-01 08:28:00</td>\n",
              "      <td>2010-12</td>\n",
              "      <td>2010-12</td>\n",
              "    </tr>\n",
              "    <tr>\n",
              "      <th>9</th>\n",
              "      <td>13047.0</td>\n",
              "      <td>536367</td>\n",
              "      <td>2010-12-01 08:34:00</td>\n",
              "      <td>2010-12</td>\n",
              "      <td>2010-12</td>\n",
              "    </tr>\n",
              "    <tr>\n",
              "      <th>21</th>\n",
              "      <td>13047.0</td>\n",
              "      <td>536368</td>\n",
              "      <td>2010-12-01 08:34:00</td>\n",
              "      <td>2010-12</td>\n",
              "      <td>2010-12</td>\n",
              "    </tr>\n",
              "    <tr>\n",
              "      <th>25</th>\n",
              "      <td>13047.0</td>\n",
              "      <td>536369</td>\n",
              "      <td>2010-12-01 08:35:00</td>\n",
              "      <td>2010-12</td>\n",
              "      <td>2010-12</td>\n",
              "    </tr>\n",
              "  </tbody>\n",
              "</table>\n",
              "</div>"
            ],
            "text/plain": [
              "    CustomerID InvoiceNo         InvoiceDate order_month   Cohort\n",
              "0      17850.0    536365 2010-12-01 08:26:00     2010-12  2010-12\n",
              "7      17850.0    536366 2010-12-01 08:28:00     2010-12  2010-12\n",
              "9      13047.0    536367 2010-12-01 08:34:00     2010-12  2010-12\n",
              "21     13047.0    536368 2010-12-01 08:34:00     2010-12  2010-12\n",
              "25     13047.0    536369 2010-12-01 08:35:00     2010-12  2010-12"
            ]
          },
          "metadata": {},
          "execution_count": 117
        }
      ]
    },
    {
      "cell_type": "markdown",
      "metadata": {
        "id": "AhxUSxTofyV2"
      },
      "source": [
        "Next we will we aggregate the data per cohort and order_month and count the number of unique customers in each group. Also we add the period_number, which indicates the number of periods between the cohort month and the month of the purchase."
      ]
    },
    {
      "cell_type": "code",
      "metadata": {
        "id": "SwAUF_OSXZKB"
      },
      "source": [
        "df1_cohort = df1.groupby(['Cohort','order_month']).agg(no_of_customers = ('CustomerID','nunique')).reset_index(drop=False)"
      ],
      "execution_count": 133,
      "outputs": []
    },
    {
      "cell_type": "code",
      "metadata": {
        "colab": {
          "base_uri": "https://localhost:8080/",
          "height": 419
        },
        "id": "nF7bAdH6d0tl",
        "outputId": "90fa30e5-a4a0-4cc8-cea8-465506e9e735"
      },
      "source": [
        "df1_cohort"
      ],
      "execution_count": 134,
      "outputs": [
        {
          "output_type": "execute_result",
          "data": {
            "text/html": [
              "<div>\n",
              "<style scoped>\n",
              "    .dataframe tbody tr th:only-of-type {\n",
              "        vertical-align: middle;\n",
              "    }\n",
              "\n",
              "    .dataframe tbody tr th {\n",
              "        vertical-align: top;\n",
              "    }\n",
              "\n",
              "    .dataframe thead th {\n",
              "        text-align: right;\n",
              "    }\n",
              "</style>\n",
              "<table border=\"1\" class=\"dataframe\">\n",
              "  <thead>\n",
              "    <tr style=\"text-align: right;\">\n",
              "      <th></th>\n",
              "      <th>Cohort</th>\n",
              "      <th>order_month</th>\n",
              "      <th>no_of_customers</th>\n",
              "    </tr>\n",
              "  </thead>\n",
              "  <tbody>\n",
              "    <tr>\n",
              "      <th>0</th>\n",
              "      <td>2010-12</td>\n",
              "      <td>2010-12</td>\n",
              "      <td>948</td>\n",
              "    </tr>\n",
              "    <tr>\n",
              "      <th>1</th>\n",
              "      <td>2010-12</td>\n",
              "      <td>2011-01</td>\n",
              "      <td>362</td>\n",
              "    </tr>\n",
              "    <tr>\n",
              "      <th>2</th>\n",
              "      <td>2010-12</td>\n",
              "      <td>2011-02</td>\n",
              "      <td>317</td>\n",
              "    </tr>\n",
              "    <tr>\n",
              "      <th>3</th>\n",
              "      <td>2010-12</td>\n",
              "      <td>2011-03</td>\n",
              "      <td>367</td>\n",
              "    </tr>\n",
              "    <tr>\n",
              "      <th>4</th>\n",
              "      <td>2010-12</td>\n",
              "      <td>2011-04</td>\n",
              "      <td>341</td>\n",
              "    </tr>\n",
              "    <tr>\n",
              "      <th>...</th>\n",
              "      <td>...</td>\n",
              "      <td>...</td>\n",
              "      <td>...</td>\n",
              "    </tr>\n",
              "    <tr>\n",
              "      <th>86</th>\n",
              "      <td>2011-10</td>\n",
              "      <td>2011-11</td>\n",
              "      <td>93</td>\n",
              "    </tr>\n",
              "    <tr>\n",
              "      <th>87</th>\n",
              "      <td>2011-10</td>\n",
              "      <td>2011-12</td>\n",
              "      <td>46</td>\n",
              "    </tr>\n",
              "    <tr>\n",
              "      <th>88</th>\n",
              "      <td>2011-11</td>\n",
              "      <td>2011-11</td>\n",
              "      <td>321</td>\n",
              "    </tr>\n",
              "    <tr>\n",
              "      <th>89</th>\n",
              "      <td>2011-11</td>\n",
              "      <td>2011-12</td>\n",
              "      <td>43</td>\n",
              "    </tr>\n",
              "    <tr>\n",
              "      <th>90</th>\n",
              "      <td>2011-12</td>\n",
              "      <td>2011-12</td>\n",
              "      <td>41</td>\n",
              "    </tr>\n",
              "  </tbody>\n",
              "</table>\n",
              "<p>91 rows × 3 columns</p>\n",
              "</div>"
            ],
            "text/plain": [
              "     Cohort order_month  no_of_customers\n",
              "0   2010-12     2010-12              948\n",
              "1   2010-12     2011-01              362\n",
              "2   2010-12     2011-02              317\n",
              "3   2010-12     2011-03              367\n",
              "4   2010-12     2011-04              341\n",
              "..      ...         ...              ...\n",
              "86  2011-10     2011-11               93\n",
              "87  2011-10     2011-12               46\n",
              "88  2011-11     2011-11              321\n",
              "89  2011-11     2011-12               43\n",
              "90  2011-12     2011-12               41\n",
              "\n",
              "[91 rows x 3 columns]"
            ]
          },
          "metadata": {},
          "execution_count": 134
        }
      ]
    },
    {
      "cell_type": "code",
      "metadata": {
        "id": "YwytS7cud2wu"
      },
      "source": [
        "df1_cohort['period'] = (df1_cohort['order_month'] - df1_cohort['Cohort']).apply(attrgetter('n'))"
      ],
      "execution_count": 136,
      "outputs": []
    },
    {
      "cell_type": "code",
      "metadata": {
        "colab": {
          "base_uri": "https://localhost:8080/",
          "height": 419
        },
        "id": "AN53Oeulgzir",
        "outputId": "3264154b-21f1-41c2-cbd9-915420fe1dec"
      },
      "source": [
        "df1_cohort"
      ],
      "execution_count": 137,
      "outputs": [
        {
          "output_type": "execute_result",
          "data": {
            "text/html": [
              "<div>\n",
              "<style scoped>\n",
              "    .dataframe tbody tr th:only-of-type {\n",
              "        vertical-align: middle;\n",
              "    }\n",
              "\n",
              "    .dataframe tbody tr th {\n",
              "        vertical-align: top;\n",
              "    }\n",
              "\n",
              "    .dataframe thead th {\n",
              "        text-align: right;\n",
              "    }\n",
              "</style>\n",
              "<table border=\"1\" class=\"dataframe\">\n",
              "  <thead>\n",
              "    <tr style=\"text-align: right;\">\n",
              "      <th></th>\n",
              "      <th>Cohort</th>\n",
              "      <th>order_month</th>\n",
              "      <th>no_of_customers</th>\n",
              "      <th>period</th>\n",
              "    </tr>\n",
              "  </thead>\n",
              "  <tbody>\n",
              "    <tr>\n",
              "      <th>0</th>\n",
              "      <td>2010-12</td>\n",
              "      <td>2010-12</td>\n",
              "      <td>948</td>\n",
              "      <td>0</td>\n",
              "    </tr>\n",
              "    <tr>\n",
              "      <th>1</th>\n",
              "      <td>2010-12</td>\n",
              "      <td>2011-01</td>\n",
              "      <td>362</td>\n",
              "      <td>1</td>\n",
              "    </tr>\n",
              "    <tr>\n",
              "      <th>2</th>\n",
              "      <td>2010-12</td>\n",
              "      <td>2011-02</td>\n",
              "      <td>317</td>\n",
              "      <td>2</td>\n",
              "    </tr>\n",
              "    <tr>\n",
              "      <th>3</th>\n",
              "      <td>2010-12</td>\n",
              "      <td>2011-03</td>\n",
              "      <td>367</td>\n",
              "      <td>3</td>\n",
              "    </tr>\n",
              "    <tr>\n",
              "      <th>4</th>\n",
              "      <td>2010-12</td>\n",
              "      <td>2011-04</td>\n",
              "      <td>341</td>\n",
              "      <td>4</td>\n",
              "    </tr>\n",
              "    <tr>\n",
              "      <th>...</th>\n",
              "      <td>...</td>\n",
              "      <td>...</td>\n",
              "      <td>...</td>\n",
              "      <td>...</td>\n",
              "    </tr>\n",
              "    <tr>\n",
              "      <th>86</th>\n",
              "      <td>2011-10</td>\n",
              "      <td>2011-11</td>\n",
              "      <td>93</td>\n",
              "      <td>1</td>\n",
              "    </tr>\n",
              "    <tr>\n",
              "      <th>87</th>\n",
              "      <td>2011-10</td>\n",
              "      <td>2011-12</td>\n",
              "      <td>46</td>\n",
              "      <td>2</td>\n",
              "    </tr>\n",
              "    <tr>\n",
              "      <th>88</th>\n",
              "      <td>2011-11</td>\n",
              "      <td>2011-11</td>\n",
              "      <td>321</td>\n",
              "      <td>0</td>\n",
              "    </tr>\n",
              "    <tr>\n",
              "      <th>89</th>\n",
              "      <td>2011-11</td>\n",
              "      <td>2011-12</td>\n",
              "      <td>43</td>\n",
              "      <td>1</td>\n",
              "    </tr>\n",
              "    <tr>\n",
              "      <th>90</th>\n",
              "      <td>2011-12</td>\n",
              "      <td>2011-12</td>\n",
              "      <td>41</td>\n",
              "      <td>0</td>\n",
              "    </tr>\n",
              "  </tbody>\n",
              "</table>\n",
              "<p>91 rows × 4 columns</p>\n",
              "</div>"
            ],
            "text/plain": [
              "     Cohort order_month  no_of_customers  period\n",
              "0   2010-12     2010-12              948       0\n",
              "1   2010-12     2011-01              362       1\n",
              "2   2010-12     2011-02              317       2\n",
              "3   2010-12     2011-03              367       3\n",
              "4   2010-12     2011-04              341       4\n",
              "..      ...         ...              ...     ...\n",
              "86  2011-10     2011-11               93       1\n",
              "87  2011-10     2011-12               46       2\n",
              "88  2011-11     2011-11              321       0\n",
              "89  2011-11     2011-12               43       1\n",
              "90  2011-12     2011-12               41       0\n",
              "\n",
              "[91 rows x 4 columns]"
            ]
          },
          "metadata": {},
          "execution_count": 137
        }
      ]
    },
    {
      "cell_type": "markdown",
      "metadata": {
        "id": "SzMTmWZkhrgm"
      },
      "source": [
        "We ll change the alignment of this table by using pivot and viewing it in more informative way"
      ]
    },
    {
      "cell_type": "code",
      "metadata": {
        "id": "HBeu33BXg1ku"
      },
      "source": [
        "cohort_pivot = df1_cohort.pivot_table(columns='period',index='Cohort',values='no_of_customers')"
      ],
      "execution_count": 138,
      "outputs": []
    },
    {
      "cell_type": "code",
      "metadata": {
        "colab": {
          "base_uri": "https://localhost:8080/",
          "height": 483
        },
        "id": "ttvBOLBTil75",
        "outputId": "3328244f-b186-4ce5-8a6c-4860eb712a67"
      },
      "source": [
        "cohort_pivot"
      ],
      "execution_count": 139,
      "outputs": [
        {
          "output_type": "execute_result",
          "data": {
            "text/html": [
              "<div>\n",
              "<style scoped>\n",
              "    .dataframe tbody tr th:only-of-type {\n",
              "        vertical-align: middle;\n",
              "    }\n",
              "\n",
              "    .dataframe tbody tr th {\n",
              "        vertical-align: top;\n",
              "    }\n",
              "\n",
              "    .dataframe thead th {\n",
              "        text-align: right;\n",
              "    }\n",
              "</style>\n",
              "<table border=\"1\" class=\"dataframe\">\n",
              "  <thead>\n",
              "    <tr style=\"text-align: right;\">\n",
              "      <th>period</th>\n",
              "      <th>0</th>\n",
              "      <th>1</th>\n",
              "      <th>2</th>\n",
              "      <th>3</th>\n",
              "      <th>4</th>\n",
              "      <th>5</th>\n",
              "      <th>6</th>\n",
              "      <th>7</th>\n",
              "      <th>8</th>\n",
              "      <th>9</th>\n",
              "      <th>10</th>\n",
              "      <th>11</th>\n",
              "      <th>12</th>\n",
              "    </tr>\n",
              "    <tr>\n",
              "      <th>Cohort</th>\n",
              "      <th></th>\n",
              "      <th></th>\n",
              "      <th></th>\n",
              "      <th></th>\n",
              "      <th></th>\n",
              "      <th></th>\n",
              "      <th></th>\n",
              "      <th></th>\n",
              "      <th></th>\n",
              "      <th></th>\n",
              "      <th></th>\n",
              "      <th></th>\n",
              "      <th></th>\n",
              "    </tr>\n",
              "  </thead>\n",
              "  <tbody>\n",
              "    <tr>\n",
              "      <th>2010-12</th>\n",
              "      <td>948.0</td>\n",
              "      <td>362.0</td>\n",
              "      <td>317.0</td>\n",
              "      <td>367.0</td>\n",
              "      <td>341.0</td>\n",
              "      <td>376.0</td>\n",
              "      <td>360.0</td>\n",
              "      <td>336.0</td>\n",
              "      <td>336.0</td>\n",
              "      <td>374.0</td>\n",
              "      <td>354.0</td>\n",
              "      <td>474.0</td>\n",
              "      <td>260.0</td>\n",
              "    </tr>\n",
              "    <tr>\n",
              "      <th>2011-01</th>\n",
              "      <td>421.0</td>\n",
              "      <td>101.0</td>\n",
              "      <td>119.0</td>\n",
              "      <td>102.0</td>\n",
              "      <td>138.0</td>\n",
              "      <td>126.0</td>\n",
              "      <td>110.0</td>\n",
              "      <td>108.0</td>\n",
              "      <td>131.0</td>\n",
              "      <td>146.0</td>\n",
              "      <td>155.0</td>\n",
              "      <td>63.0</td>\n",
              "      <td>NaN</td>\n",
              "    </tr>\n",
              "    <tr>\n",
              "      <th>2011-02</th>\n",
              "      <td>380.0</td>\n",
              "      <td>94.0</td>\n",
              "      <td>73.0</td>\n",
              "      <td>106.0</td>\n",
              "      <td>102.0</td>\n",
              "      <td>94.0</td>\n",
              "      <td>97.0</td>\n",
              "      <td>107.0</td>\n",
              "      <td>98.0</td>\n",
              "      <td>119.0</td>\n",
              "      <td>35.0</td>\n",
              "      <td>NaN</td>\n",
              "      <td>NaN</td>\n",
              "    </tr>\n",
              "    <tr>\n",
              "      <th>2011-03</th>\n",
              "      <td>440.0</td>\n",
              "      <td>84.0</td>\n",
              "      <td>112.0</td>\n",
              "      <td>96.0</td>\n",
              "      <td>102.0</td>\n",
              "      <td>78.0</td>\n",
              "      <td>116.0</td>\n",
              "      <td>105.0</td>\n",
              "      <td>127.0</td>\n",
              "      <td>39.0</td>\n",
              "      <td>NaN</td>\n",
              "      <td>NaN</td>\n",
              "      <td>NaN</td>\n",
              "    </tr>\n",
              "    <tr>\n",
              "      <th>2011-04</th>\n",
              "      <td>299.0</td>\n",
              "      <td>68.0</td>\n",
              "      <td>66.0</td>\n",
              "      <td>63.0</td>\n",
              "      <td>62.0</td>\n",
              "      <td>71.0</td>\n",
              "      <td>69.0</td>\n",
              "      <td>78.0</td>\n",
              "      <td>25.0</td>\n",
              "      <td>NaN</td>\n",
              "      <td>NaN</td>\n",
              "      <td>NaN</td>\n",
              "      <td>NaN</td>\n",
              "    </tr>\n",
              "    <tr>\n",
              "      <th>2011-05</th>\n",
              "      <td>279.0</td>\n",
              "      <td>66.0</td>\n",
              "      <td>48.0</td>\n",
              "      <td>48.0</td>\n",
              "      <td>60.0</td>\n",
              "      <td>68.0</td>\n",
              "      <td>74.0</td>\n",
              "      <td>29.0</td>\n",
              "      <td>NaN</td>\n",
              "      <td>NaN</td>\n",
              "      <td>NaN</td>\n",
              "      <td>NaN</td>\n",
              "      <td>NaN</td>\n",
              "    </tr>\n",
              "    <tr>\n",
              "      <th>2011-06</th>\n",
              "      <td>235.0</td>\n",
              "      <td>49.0</td>\n",
              "      <td>44.0</td>\n",
              "      <td>64.0</td>\n",
              "      <td>58.0</td>\n",
              "      <td>79.0</td>\n",
              "      <td>24.0</td>\n",
              "      <td>NaN</td>\n",
              "      <td>NaN</td>\n",
              "      <td>NaN</td>\n",
              "      <td>NaN</td>\n",
              "      <td>NaN</td>\n",
              "      <td>NaN</td>\n",
              "    </tr>\n",
              "    <tr>\n",
              "      <th>2011-07</th>\n",
              "      <td>191.0</td>\n",
              "      <td>40.0</td>\n",
              "      <td>39.0</td>\n",
              "      <td>44.0</td>\n",
              "      <td>52.0</td>\n",
              "      <td>22.0</td>\n",
              "      <td>NaN</td>\n",
              "      <td>NaN</td>\n",
              "      <td>NaN</td>\n",
              "      <td>NaN</td>\n",
              "      <td>NaN</td>\n",
              "      <td>NaN</td>\n",
              "      <td>NaN</td>\n",
              "    </tr>\n",
              "    <tr>\n",
              "      <th>2011-08</th>\n",
              "      <td>167.0</td>\n",
              "      <td>42.0</td>\n",
              "      <td>42.0</td>\n",
              "      <td>42.0</td>\n",
              "      <td>23.0</td>\n",
              "      <td>NaN</td>\n",
              "      <td>NaN</td>\n",
              "      <td>NaN</td>\n",
              "      <td>NaN</td>\n",
              "      <td>NaN</td>\n",
              "      <td>NaN</td>\n",
              "      <td>NaN</td>\n",
              "      <td>NaN</td>\n",
              "    </tr>\n",
              "    <tr>\n",
              "      <th>2011-09</th>\n",
              "      <td>298.0</td>\n",
              "      <td>89.0</td>\n",
              "      <td>97.0</td>\n",
              "      <td>36.0</td>\n",
              "      <td>NaN</td>\n",
              "      <td>NaN</td>\n",
              "      <td>NaN</td>\n",
              "      <td>NaN</td>\n",
              "      <td>NaN</td>\n",
              "      <td>NaN</td>\n",
              "      <td>NaN</td>\n",
              "      <td>NaN</td>\n",
              "      <td>NaN</td>\n",
              "    </tr>\n",
              "    <tr>\n",
              "      <th>2011-10</th>\n",
              "      <td>352.0</td>\n",
              "      <td>93.0</td>\n",
              "      <td>46.0</td>\n",
              "      <td>NaN</td>\n",
              "      <td>NaN</td>\n",
              "      <td>NaN</td>\n",
              "      <td>NaN</td>\n",
              "      <td>NaN</td>\n",
              "      <td>NaN</td>\n",
              "      <td>NaN</td>\n",
              "      <td>NaN</td>\n",
              "      <td>NaN</td>\n",
              "      <td>NaN</td>\n",
              "    </tr>\n",
              "    <tr>\n",
              "      <th>2011-11</th>\n",
              "      <td>321.0</td>\n",
              "      <td>43.0</td>\n",
              "      <td>NaN</td>\n",
              "      <td>NaN</td>\n",
              "      <td>NaN</td>\n",
              "      <td>NaN</td>\n",
              "      <td>NaN</td>\n",
              "      <td>NaN</td>\n",
              "      <td>NaN</td>\n",
              "      <td>NaN</td>\n",
              "      <td>NaN</td>\n",
              "      <td>NaN</td>\n",
              "      <td>NaN</td>\n",
              "    </tr>\n",
              "    <tr>\n",
              "      <th>2011-12</th>\n",
              "      <td>41.0</td>\n",
              "      <td>NaN</td>\n",
              "      <td>NaN</td>\n",
              "      <td>NaN</td>\n",
              "      <td>NaN</td>\n",
              "      <td>NaN</td>\n",
              "      <td>NaN</td>\n",
              "      <td>NaN</td>\n",
              "      <td>NaN</td>\n",
              "      <td>NaN</td>\n",
              "      <td>NaN</td>\n",
              "      <td>NaN</td>\n",
              "      <td>NaN</td>\n",
              "    </tr>\n",
              "  </tbody>\n",
              "</table>\n",
              "</div>"
            ],
            "text/plain": [
              "period      0      1      2      3      4   ...     8      9      10     11     12\n",
              "Cohort                                      ...                                   \n",
              "2010-12  948.0  362.0  317.0  367.0  341.0  ...  336.0  374.0  354.0  474.0  260.0\n",
              "2011-01  421.0  101.0  119.0  102.0  138.0  ...  131.0  146.0  155.0   63.0    NaN\n",
              "2011-02  380.0   94.0   73.0  106.0  102.0  ...   98.0  119.0   35.0    NaN    NaN\n",
              "2011-03  440.0   84.0  112.0   96.0  102.0  ...  127.0   39.0    NaN    NaN    NaN\n",
              "2011-04  299.0   68.0   66.0   63.0   62.0  ...   25.0    NaN    NaN    NaN    NaN\n",
              "2011-05  279.0   66.0   48.0   48.0   60.0  ...    NaN    NaN    NaN    NaN    NaN\n",
              "2011-06  235.0   49.0   44.0   64.0   58.0  ...    NaN    NaN    NaN    NaN    NaN\n",
              "2011-07  191.0   40.0   39.0   44.0   52.0  ...    NaN    NaN    NaN    NaN    NaN\n",
              "2011-08  167.0   42.0   42.0   42.0   23.0  ...    NaN    NaN    NaN    NaN    NaN\n",
              "2011-09  298.0   89.0   97.0   36.0    NaN  ...    NaN    NaN    NaN    NaN    NaN\n",
              "2011-10  352.0   93.0   46.0    NaN    NaN  ...    NaN    NaN    NaN    NaN    NaN\n",
              "2011-11  321.0   43.0    NaN    NaN    NaN  ...    NaN    NaN    NaN    NaN    NaN\n",
              "2011-12   41.0    NaN    NaN    NaN    NaN  ...    NaN    NaN    NaN    NaN    NaN\n",
              "\n",
              "[13 rows x 13 columns]"
            ]
          },
          "metadata": {},
          "execution_count": 139
        }
      ]
    },
    {
      "cell_type": "markdown",
      "metadata": {
        "id": "gcRhlWt9jed0"
      },
      "source": [
        "To obtain the retention matrix we ll do some math. Divide a value by its total. "
      ]
    },
    {
      "cell_type": "code",
      "metadata": {
        "id": "WqR3S7XqinbW"
      },
      "source": [
        "cohort_size = cohort_pivot.iloc[:,0]"
      ],
      "execution_count": 140,
      "outputs": []
    },
    {
      "cell_type": "code",
      "metadata": {
        "colab": {
          "base_uri": "https://localhost:8080/"
        },
        "id": "yGbAuI5Ajwue",
        "outputId": "e20e4e7b-ac39-4874-dac2-b48282dc8b3e"
      },
      "source": [
        "cohort_size"
      ],
      "execution_count": 141,
      "outputs": [
        {
          "output_type": "execute_result",
          "data": {
            "text/plain": [
              "Cohort\n",
              "2010-12    948.0\n",
              "2011-01    421.0\n",
              "2011-02    380.0\n",
              "2011-03    440.0\n",
              "2011-04    299.0\n",
              "2011-05    279.0\n",
              "2011-06    235.0\n",
              "2011-07    191.0\n",
              "2011-08    167.0\n",
              "2011-09    298.0\n",
              "2011-10    352.0\n",
              "2011-11    321.0\n",
              "2011-12     41.0\n",
              "Freq: M, Name: 0, dtype: float64"
            ]
          },
          "metadata": {},
          "execution_count": 141
        }
      ]
    },
    {
      "cell_type": "code",
      "metadata": {
        "id": "5kMy0AwHjy7m"
      },
      "source": [
        "retention_matrix = cohort_pivot.divide(cohort_size,axis=0)"
      ],
      "execution_count": 145,
      "outputs": []
    },
    {
      "cell_type": "code",
      "metadata": {
        "colab": {
          "base_uri": "https://localhost:8080/",
          "height": 483
        },
        "id": "ESS_G_XPkF0D",
        "outputId": "22d3592c-caed-4116-ddd8-1cdc8ef816ec"
      },
      "source": [
        "retention_matrix"
      ],
      "execution_count": 146,
      "outputs": [
        {
          "output_type": "execute_result",
          "data": {
            "text/html": [
              "<div>\n",
              "<style scoped>\n",
              "    .dataframe tbody tr th:only-of-type {\n",
              "        vertical-align: middle;\n",
              "    }\n",
              "\n",
              "    .dataframe tbody tr th {\n",
              "        vertical-align: top;\n",
              "    }\n",
              "\n",
              "    .dataframe thead th {\n",
              "        text-align: right;\n",
              "    }\n",
              "</style>\n",
              "<table border=\"1\" class=\"dataframe\">\n",
              "  <thead>\n",
              "    <tr style=\"text-align: right;\">\n",
              "      <th>period</th>\n",
              "      <th>0</th>\n",
              "      <th>1</th>\n",
              "      <th>2</th>\n",
              "      <th>3</th>\n",
              "      <th>4</th>\n",
              "      <th>5</th>\n",
              "      <th>6</th>\n",
              "      <th>7</th>\n",
              "      <th>8</th>\n",
              "      <th>9</th>\n",
              "      <th>10</th>\n",
              "      <th>11</th>\n",
              "      <th>12</th>\n",
              "    </tr>\n",
              "    <tr>\n",
              "      <th>Cohort</th>\n",
              "      <th></th>\n",
              "      <th></th>\n",
              "      <th></th>\n",
              "      <th></th>\n",
              "      <th></th>\n",
              "      <th></th>\n",
              "      <th></th>\n",
              "      <th></th>\n",
              "      <th></th>\n",
              "      <th></th>\n",
              "      <th></th>\n",
              "      <th></th>\n",
              "      <th></th>\n",
              "    </tr>\n",
              "  </thead>\n",
              "  <tbody>\n",
              "    <tr>\n",
              "      <th>2010-12</th>\n",
              "      <td>1.0</td>\n",
              "      <td>0.381857</td>\n",
              "      <td>0.334388</td>\n",
              "      <td>0.387131</td>\n",
              "      <td>0.359705</td>\n",
              "      <td>0.396624</td>\n",
              "      <td>0.379747</td>\n",
              "      <td>0.354430</td>\n",
              "      <td>0.354430</td>\n",
              "      <td>0.394515</td>\n",
              "      <td>0.373418</td>\n",
              "      <td>0.500000</td>\n",
              "      <td>0.274262</td>\n",
              "    </tr>\n",
              "    <tr>\n",
              "      <th>2011-01</th>\n",
              "      <td>1.0</td>\n",
              "      <td>0.239905</td>\n",
              "      <td>0.282660</td>\n",
              "      <td>0.242280</td>\n",
              "      <td>0.327791</td>\n",
              "      <td>0.299287</td>\n",
              "      <td>0.261283</td>\n",
              "      <td>0.256532</td>\n",
              "      <td>0.311164</td>\n",
              "      <td>0.346793</td>\n",
              "      <td>0.368171</td>\n",
              "      <td>0.149644</td>\n",
              "      <td>NaN</td>\n",
              "    </tr>\n",
              "    <tr>\n",
              "      <th>2011-02</th>\n",
              "      <td>1.0</td>\n",
              "      <td>0.247368</td>\n",
              "      <td>0.192105</td>\n",
              "      <td>0.278947</td>\n",
              "      <td>0.268421</td>\n",
              "      <td>0.247368</td>\n",
              "      <td>0.255263</td>\n",
              "      <td>0.281579</td>\n",
              "      <td>0.257895</td>\n",
              "      <td>0.313158</td>\n",
              "      <td>0.092105</td>\n",
              "      <td>NaN</td>\n",
              "      <td>NaN</td>\n",
              "    </tr>\n",
              "    <tr>\n",
              "      <th>2011-03</th>\n",
              "      <td>1.0</td>\n",
              "      <td>0.190909</td>\n",
              "      <td>0.254545</td>\n",
              "      <td>0.218182</td>\n",
              "      <td>0.231818</td>\n",
              "      <td>0.177273</td>\n",
              "      <td>0.263636</td>\n",
              "      <td>0.238636</td>\n",
              "      <td>0.288636</td>\n",
              "      <td>0.088636</td>\n",
              "      <td>NaN</td>\n",
              "      <td>NaN</td>\n",
              "      <td>NaN</td>\n",
              "    </tr>\n",
              "    <tr>\n",
              "      <th>2011-04</th>\n",
              "      <td>1.0</td>\n",
              "      <td>0.227425</td>\n",
              "      <td>0.220736</td>\n",
              "      <td>0.210702</td>\n",
              "      <td>0.207358</td>\n",
              "      <td>0.237458</td>\n",
              "      <td>0.230769</td>\n",
              "      <td>0.260870</td>\n",
              "      <td>0.083612</td>\n",
              "      <td>NaN</td>\n",
              "      <td>NaN</td>\n",
              "      <td>NaN</td>\n",
              "      <td>NaN</td>\n",
              "    </tr>\n",
              "    <tr>\n",
              "      <th>2011-05</th>\n",
              "      <td>1.0</td>\n",
              "      <td>0.236559</td>\n",
              "      <td>0.172043</td>\n",
              "      <td>0.172043</td>\n",
              "      <td>0.215054</td>\n",
              "      <td>0.243728</td>\n",
              "      <td>0.265233</td>\n",
              "      <td>0.103943</td>\n",
              "      <td>NaN</td>\n",
              "      <td>NaN</td>\n",
              "      <td>NaN</td>\n",
              "      <td>NaN</td>\n",
              "      <td>NaN</td>\n",
              "    </tr>\n",
              "    <tr>\n",
              "      <th>2011-06</th>\n",
              "      <td>1.0</td>\n",
              "      <td>0.208511</td>\n",
              "      <td>0.187234</td>\n",
              "      <td>0.272340</td>\n",
              "      <td>0.246809</td>\n",
              "      <td>0.336170</td>\n",
              "      <td>0.102128</td>\n",
              "      <td>NaN</td>\n",
              "      <td>NaN</td>\n",
              "      <td>NaN</td>\n",
              "      <td>NaN</td>\n",
              "      <td>NaN</td>\n",
              "      <td>NaN</td>\n",
              "    </tr>\n",
              "    <tr>\n",
              "      <th>2011-07</th>\n",
              "      <td>1.0</td>\n",
              "      <td>0.209424</td>\n",
              "      <td>0.204188</td>\n",
              "      <td>0.230366</td>\n",
              "      <td>0.272251</td>\n",
              "      <td>0.115183</td>\n",
              "      <td>NaN</td>\n",
              "      <td>NaN</td>\n",
              "      <td>NaN</td>\n",
              "      <td>NaN</td>\n",
              "      <td>NaN</td>\n",
              "      <td>NaN</td>\n",
              "      <td>NaN</td>\n",
              "    </tr>\n",
              "    <tr>\n",
              "      <th>2011-08</th>\n",
              "      <td>1.0</td>\n",
              "      <td>0.251497</td>\n",
              "      <td>0.251497</td>\n",
              "      <td>0.251497</td>\n",
              "      <td>0.137725</td>\n",
              "      <td>NaN</td>\n",
              "      <td>NaN</td>\n",
              "      <td>NaN</td>\n",
              "      <td>NaN</td>\n",
              "      <td>NaN</td>\n",
              "      <td>NaN</td>\n",
              "      <td>NaN</td>\n",
              "      <td>NaN</td>\n",
              "    </tr>\n",
              "    <tr>\n",
              "      <th>2011-09</th>\n",
              "      <td>1.0</td>\n",
              "      <td>0.298658</td>\n",
              "      <td>0.325503</td>\n",
              "      <td>0.120805</td>\n",
              "      <td>NaN</td>\n",
              "      <td>NaN</td>\n",
              "      <td>NaN</td>\n",
              "      <td>NaN</td>\n",
              "      <td>NaN</td>\n",
              "      <td>NaN</td>\n",
              "      <td>NaN</td>\n",
              "      <td>NaN</td>\n",
              "      <td>NaN</td>\n",
              "    </tr>\n",
              "    <tr>\n",
              "      <th>2011-10</th>\n",
              "      <td>1.0</td>\n",
              "      <td>0.264205</td>\n",
              "      <td>0.130682</td>\n",
              "      <td>NaN</td>\n",
              "      <td>NaN</td>\n",
              "      <td>NaN</td>\n",
              "      <td>NaN</td>\n",
              "      <td>NaN</td>\n",
              "      <td>NaN</td>\n",
              "      <td>NaN</td>\n",
              "      <td>NaN</td>\n",
              "      <td>NaN</td>\n",
              "      <td>NaN</td>\n",
              "    </tr>\n",
              "    <tr>\n",
              "      <th>2011-11</th>\n",
              "      <td>1.0</td>\n",
              "      <td>0.133956</td>\n",
              "      <td>NaN</td>\n",
              "      <td>NaN</td>\n",
              "      <td>NaN</td>\n",
              "      <td>NaN</td>\n",
              "      <td>NaN</td>\n",
              "      <td>NaN</td>\n",
              "      <td>NaN</td>\n",
              "      <td>NaN</td>\n",
              "      <td>NaN</td>\n",
              "      <td>NaN</td>\n",
              "      <td>NaN</td>\n",
              "    </tr>\n",
              "    <tr>\n",
              "      <th>2011-12</th>\n",
              "      <td>1.0</td>\n",
              "      <td>NaN</td>\n",
              "      <td>NaN</td>\n",
              "      <td>NaN</td>\n",
              "      <td>NaN</td>\n",
              "      <td>NaN</td>\n",
              "      <td>NaN</td>\n",
              "      <td>NaN</td>\n",
              "      <td>NaN</td>\n",
              "      <td>NaN</td>\n",
              "      <td>NaN</td>\n",
              "      <td>NaN</td>\n",
              "      <td>NaN</td>\n",
              "    </tr>\n",
              "  </tbody>\n",
              "</table>\n",
              "</div>"
            ],
            "text/plain": [
              "period    0         1         2   ...        10        11        12\n",
              "Cohort                            ...                              \n",
              "2010-12  1.0  0.381857  0.334388  ...  0.373418  0.500000  0.274262\n",
              "2011-01  1.0  0.239905  0.282660  ...  0.368171  0.149644       NaN\n",
              "2011-02  1.0  0.247368  0.192105  ...  0.092105       NaN       NaN\n",
              "2011-03  1.0  0.190909  0.254545  ...       NaN       NaN       NaN\n",
              "2011-04  1.0  0.227425  0.220736  ...       NaN       NaN       NaN\n",
              "2011-05  1.0  0.236559  0.172043  ...       NaN       NaN       NaN\n",
              "2011-06  1.0  0.208511  0.187234  ...       NaN       NaN       NaN\n",
              "2011-07  1.0  0.209424  0.204188  ...       NaN       NaN       NaN\n",
              "2011-08  1.0  0.251497  0.251497  ...       NaN       NaN       NaN\n",
              "2011-09  1.0  0.298658  0.325503  ...       NaN       NaN       NaN\n",
              "2011-10  1.0  0.264205  0.130682  ...       NaN       NaN       NaN\n",
              "2011-11  1.0  0.133956       NaN  ...       NaN       NaN       NaN\n",
              "2011-12  1.0       NaN       NaN  ...       NaN       NaN       NaN\n",
              "\n",
              "[13 rows x 13 columns]"
            ]
          },
          "metadata": {},
          "execution_count": 146
        }
      ]
    },
    {
      "cell_type": "code",
      "metadata": {
        "colab": {
          "base_uri": "https://localhost:8080/",
          "height": 945
        },
        "id": "xyKCoFWwkKlJ",
        "outputId": "40fec096-7597-45fe-f135-c2858644d87c"
      },
      "source": [
        "sns.set_style('darkgrid')\n",
        "plt.figure(figsize = (15,15))\n",
        "sns.heatmap(retention_matrix,annot=True,cmap='Oranges_r')\n",
        "plt.xlabel('Cohort Index', fontsize=15)\n",
        "plt.ylabel('Cohort Month',fontsize=15)\n",
        "plt.title('Retention Cohorts per month', fontsize=30)\n",
        "plt.yticks(rotation='360')"
      ],
      "execution_count": 152,
      "outputs": [
        {
          "output_type": "execute_result",
          "data": {
            "text/plain": [
              "(array([ 0.5,  1.5,  2.5,  3.5,  4.5,  5.5,  6.5,  7.5,  8.5,  9.5, 10.5,\n",
              "        11.5, 12.5]), <a list of 13 Text major ticklabel objects>)"
            ]
          },
          "metadata": {},
          "execution_count": 152
        },
        {
          "output_type": "display_data",
          "data": {
            "image/png": "[encoded data removed]",
            "text/plain": [
              "<Figure size 1080x1080 with 2 Axes>"
            ]
          },
          "metadata": {}
        }
      ]
    },
    {
      "cell_type": "code",
      "metadata": {
        "id": "5IPT9uY_kong"
      },
      "source": [
        ""
      ],
      "execution_count": null,
      "outputs": []
    }
  ]
}